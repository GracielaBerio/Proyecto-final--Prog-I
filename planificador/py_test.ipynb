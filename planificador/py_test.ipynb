{
 "cells": [
  {
   "cell_type": "markdown",
   "id": "ebebefc2",
   "metadata": {},
   "source": [
    "### Py Test\n",
    "\n",
    "### Cómo usarlo\n",
    "\n",
    "**Instalar pytest (una sola vez):**\n",
    "\n",
    "*pip install pytest*\n",
    "\n",
    "\n",
    "**Crear un archivo de prueba, por ejemplo:**\n",
    "\n",
    "*test_planificador_simple.py*\n",
    "\n",
    "\n",
    "**Dentro del archivo, escribir funciones que empiecen con test_**\n",
    "**Cada una de esas funciones hace una prueba.**\n",
    "\n",
    "### Ejemplo simple:\n",
    "\n",
    "Supongamos que solo queremos probar que las funciones\n",
    "agregar_tarea, obtener_tareas y eliminar_tarea funcionan bien."
   ]
  },
  {
   "cell_type": "markdown",
   "id": "ac45ff60",
   "metadata": {},
   "source": [
    "### Para ejecutar las pruebas\n",
    "\n",
    "**Abre una terminal en la carpeta del proyecto y escribí:**\n",
    "\n",
    "*pytest -v*\n",
    "\n",
    "\n",
    "**Pytest buscará automáticamente todos los archivos que se llamen test_*.py**\n",
    "**y ejecutará cada función que empiece con test_.**"
   ]
  },
  {
   "cell_type": "code",
   "execution_count": null,
   "id": "ecf30b22",
   "metadata": {},
   "outputs": [],
   "source": [
    "# test_planificador_simple.py\n",
    "import os\n",
    "import sqlite3\n",
    "from Planificador_de_tareas import iniciar_bd, agregar_tarea, obtener_tareas, eliminar_tarea, DB_NOMBRE\n",
    "\n",
    "def setup_module(module):\n",
    "    \"\"\"Se ejecuta antes de todas las pruebas: crea la BD.\"\"\"\n",
    "    if os.path.exists(DB_NOMBRE):\n",
    "        os.remove(DB_NOMBRE)\n",
    "    iniciar_bd()\n",
    "\n",
    "def teardown_module(module):\n",
    "    \"\"\"Se ejecuta al final: borra la BD.\"\"\"\n",
    "    if os.path.exists(DB_NOMBRE):\n",
    "        os.remove(DB_NOMBRE)\n",
    "\n",
    "def test_agregar_y_obtener():\n",
    "    \"\"\"Prueba que se agregue y se obtenga una tarea.\"\"\"\n",
    "    agregar_tarea(\"Tarea de prueba\", \"Descripción\", \"2025-11-01\", \"Alta\")\n",
    "    tareas = obtener_tareas()\n",
    "    assert len(tareas) == 1\n",
    "    assert tareas[0][1] == \"Tarea de prueba\"\n",
    "\n",
    "def test_eliminar():\n",
    "    \"\"\"Prueba que se elimine una tarea.\"\"\"\n",
    "    tareas = obtener_tareas()\n",
    "    id_tarea = tareas[0][0]\n",
    "    eliminar_tarea(id_tarea)\n",
    "    tareas_nuevas = obtener_tareas()\n",
    "    assert len(tareas_nuevas) == 0\n"
   ]
  },
  {
   "cell_type": "markdown",
   "id": "2f6c03e5",
   "metadata": {},
   "source": [
    "##### Qué se verá\n",
    "\n",
    "**Si todo funciona bien, aparecerá algo así:**"
   ]
  },
  {
   "cell_type": "code",
   "execution_count": null,
   "id": "dd667960",
   "metadata": {},
   "outputs": [],
   "source": [
    "======================= test session starts =======================\n",
    "collected 2 items\n",
    "\n",
    "test_planificador_simple.py::test_agregar_y_obtener PASSED\n",
    "test_planificador_simple.py::test_eliminar PASSED\n",
    "\n",
    "======================== 2 passed in 0.15s ========================\n"
   ]
  }
 ],
 "metadata": {
  "kernelspec": {
   "display_name": "Python 3",
   "language": "python",
   "name": "python3"
  },
  "language_info": {
   "codemirror_mode": {
    "name": "ipython",
    "version": 3
   },
   "file_extension": ".py",
   "mimetype": "text/x-python",
   "name": "python",
   "nbconvert_exporter": "python",
   "pygments_lexer": "ipython3",
   "version": "3.14.0a7"
  }
 },
 "nbformat": 4,
 "nbformat_minor": 5
}
