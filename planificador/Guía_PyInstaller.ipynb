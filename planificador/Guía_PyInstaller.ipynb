{
 "cells": [
  {
   "cell_type": "markdown",
   "id": "a51bbb5e",
   "metadata": {},
   "source": [
    "#  Cómo crear un programa portable en Windows con PyInstaller"
   ]
  },
  {
   "cell_type": "code",
   "execution_count": null,
   "id": "3e9725e6",
   "metadata": {},
   "outputs": [],
   "source": []
  },
  {
   "cell_type": "markdown",
   "id": "0138aaf7",
   "metadata": {},
   "source": [
    "\n",
    "Este cuaderno de **Jupyter Notebook** explica paso a paso cómo convertir un archivo `.py` \n",
    "(en este caso, tu programa `Planificador_de_tareas.py`) en un **ejecutable portable (.exe)** usando **PyInstaller**.\n",
    "\n",
    "---\n"
   ]
  },
  {
   "cell_type": "markdown",
   "id": "c0602168",
   "metadata": {},
   "source": [
    "## 1️ ¿Qué es PyInstaller?"
   ]
  },
  {
   "cell_type": "markdown",
   "id": "aa11d2fc",
   "metadata": {},
   "source": [
    "\n",
    "**PyInstaller** es una herramienta que convierte tus scripts de Python (`.py`) \n",
    "en archivos ejecutables (`.exe` en Windows, `.app` en macOS, o binarios en Linux).  \n",
    "Esto permite que el programa funcione **sin necesidad de tener Python instalado**.\n",
    "\n",
    "PyInstaller analiza tu código y recopila:\n",
    "- El intérprete de Python necesario para ejecutarlo.\n",
    "- Todas las librerías y dependencias.\n",
    "- Los recursos externos (imágenes, íconos, etc., si los configurás).\n",
    "\n",
    "Finalmente, empaqueta todo eso en **un solo archivo .exe**, que podés distribuir libremente.\n"
   ]
  },
  {
   "cell_type": "markdown",
   "id": "946bd9dd",
   "metadata": {},
   "source": [
    "## 2️ Instalación de PyInstaller"
   ]
  },
  {
   "cell_type": "code",
   "execution_count": null,
   "id": "42e36628",
   "metadata": {},
   "outputs": [],
   "source": [
    "\n",
    "# Instalar PyInstaller (solo la primera vez)\n",
    "!pip install pyinstaller\n"
   ]
  },
  {
   "cell_type": "markdown",
   "id": "b09a3dbd",
   "metadata": {},
   "source": [
    "## 3️ Crear el ejecutable básico"
   ]
  },
  {
   "cell_type": "code",
   "execution_count": null,
   "id": "0ff879b9",
   "metadata": {},
   "outputs": [],
   "source": [
    "\n",
    "# En una terminal, posicionate en la carpeta donde está tu script principal.\n",
    "# Luego ejecutá este comando:\n",
    "\n",
    "!pyinstaller --onefile --noconsole Planificador_de_tareas.py\n"
   ]
  },
  {
   "cell_type": "markdown",
   "id": "d12680ea",
   "metadata": {},
   "source": [
    "\n",
    "### Explicación de los parámetros:\n",
    "- `--onefile`: genera **un solo archivo ejecutable** (más fácil de mover o copiar).\n",
    "- `--noconsole`: evita que aparezca la consola negra (ideal si tu app tiene ventana gráfica Tkinter).\n",
    "- `Planificador_de_tareas.py`: es el nombre de tu archivo principal.\n",
    "\n",
    "Después de ejecutar el comando, se crean estas carpetas:\n",
    "\n",
    "```\n",
    "build/\n",
    "dist/\n",
    "└── Planificador_de_tareas.exe <----- tu programa listo para usar\n",
    "Planificador_de_tareas.spec\n",
    "```\n",
    "El archivo que te interesa es el `.exe` dentro de `dist/`.\n"
   ]
  },
  {
   "cell_type": "markdown",
   "id": "afee16c9",
   "metadata": {},
   "source": [
    "## 4️ Agregar un ícono personalizado (opcional)"
   ]
  },
  {
   "cell_type": "code",
   "execution_count": null,
   "id": "25ba701d",
   "metadata": {},
   "outputs": [],
   "source": [
    "\n",
    "# Si querés que tu ejecutable tenga un ícono personalizado (.ico):\n",
    "!pyinstaller --onefile --noconsole --icon=icono.ico Planificador_de_tareas.py\n"
   ]
  },
  {
   "cell_type": "markdown",
   "id": "8dd87dc4",
   "metadata": {},
   "source": [
    "## 5️ Incluir archivos adicionales (base de datos, imágenes, etc.)"
   ]
  },
  {
   "cell_type": "markdown",
   "id": "6e7adb32",
   "metadata": {},
   "source": [
    "\n",
    "Si tu aplicación usa archivos externos (como `tareas.db`, imágenes o configuraciones),\n",
    "debes indicarle a PyInstaller que los incluya.\n",
    "\n",
    "Podés hacerlo agregando la opción `--add-data`, por ejemplo:\n",
    "\n",
    "```bash\n",
    "pyinstaller --onefile --noconsole --add-data \"tareas.db;.\" Planificador_de_tareas.py\n",
    "```\n",
    "\n",
    "- El `;.` indica que el archivo `tareas.db` se copiará al **mismo directorio** donde está el .exe.\n"
   ]
  },
  {
   "cell_type": "markdown",
   "id": "132354d9",
   "metadata": {},
   "source": [
    "## 6️ Probar el ejecutable"
   ]
  },
  {
   "cell_type": "markdown",
   "id": "61bf30f4",
   "metadata": {},
   "source": [
    "\n",
    "1. Abrí la carpeta `dist/`  \n",
    "2. Hacé doble clic en `Planificador_de_tareas.exe`  \n",
    "3. Tu aplicación debería abrirse normalmente, sin necesidad de instalar Python.\n",
    "\n",
    "Si aparece algún error, verificá:\n",
    "- Que las rutas a archivos sean **relativas** y no absolutas.  \n",
    "- Que todas las librerías (como `tkcalendar`) estén instaladas antes de compilar.  \n",
    "- Que el nombre del archivo `.py` coincida exactamente con el que usaste en el comando.\n",
    "\n",
    "---\n"
   ]
  },
  {
   "cell_type": "markdown",
   "id": "3c6c512f",
   "metadata": {},
   "source": [
    "## 7️ Limpieza del proyecto (opcional)"
   ]
  },
  {
   "cell_type": "code",
   "execution_count": null,
   "id": "d2ade659",
   "metadata": {},
   "outputs": [],
   "source": [
    "\n",
    "# Si querés limpiar archivos de compilaciones anteriores:\n",
    "!rmdir /s /q build dist __pycache__ || echo \"Carpetas eliminadas (Windows)\"\n",
    "!del Planificador_de_tareas.spec || echo \"Archivo .spec eliminado\"\n"
   ]
  }
 ],
 "metadata": {
  "language_info": {
   "name": "python"
  }
 },
 "nbformat": 4,
 "nbformat_minor": 5
}
